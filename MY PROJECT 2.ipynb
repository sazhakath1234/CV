{
 "cells": [
  {
   "cell_type": "code",
   "execution_count": 108,
   "id": "1f16311d",
   "metadata": {},
   "outputs": [
    {
     "name": "stdout",
     "output_type": "stream",
     "text": [
      "For my second project I will be doing a Sleep Vs Health data to meaure the imapct of sleep on ages and different types of occupations. I chose this dataset because I found the factors playing into the quality of sleep fascinating. I tried to make this as my Project 1 in Rstudio, but I had much difficulity, so I really wanted to make this my pyhton project!\t\n",
      "\n",
      "HERE IS MY CITATION: Tharmalingam, Laksika. “Sleep Health and Lifestyle Dataset.” Kaggle, 18 Sept. 2023, www.kaggle.com/datasets/uom190346a/sleep-health-and-lifestyle-dataset\t\n",
      "\n",
      "HERE IS THE LINK TO SOURCE: https://www.kaggle.com/datasets/uom190346a/sleep-health-and-lifestyle-dataset\n"
     ]
    }
   ],
   "source": [
    "print('For my second project I will be doing a Sleep Vs Health data to meaure the impact of sleep on ages and different types of occupations. I chose this dataset because I found the factors playing into the quality of sleep fascinating. I tried to make this as my Project 1 in Rstudio, but I had much difficulity, so I really wanted to make this my pyhton project!\\t')\n",
    "print('')           \n",
    "print('HERE IS MY CITATION: Tharmalingam, Laksika. “Sleep Health and Lifestyle Dataset.” Kaggle, 18 Sept. 2023, www.kaggle.com/datasets/uom190346a/sleep-health-and-lifestyle-dataset\\t')   \n",
    "print('')\n",
    "print('HERE IS THE LINK TO SOURCE: https://www.kaggle.com/datasets/uom190346a/sleep-health-and-lifestyle-dataset')\n"
   ]
  },
  {
   "cell_type": "code",
   "execution_count": 1,
   "id": "52a91015",
   "metadata": {},
   "outputs": [
    {
     "name": "stdout",
     "output_type": "stream",
     "text": [
      "Objective: To systematically analyze and compare sleep patterns, including sleep duration and quality, across diverse occupational groups. The goal is to discern potential correlations or variations in sleep behaviors among different professions, aiming to uncover insights about how occupational factors influence sleep health\n"
     ]
    }
   ],
   "source": [
    "print('Objective: To systematically analyze and compare sleep patterns, including sleep duration and quality, across diverse occupational groups. The goal is to discern potential correlations or variations in sleep behaviors among different professions, aiming to uncover insights about how occupational factors influence sleep health')"
   ]
  },
  {
   "cell_type": "code",
   "execution_count": 89,
   "id": "205f287f",
   "metadata": {},
   "outputs": [
    {
     "name": "stdout",
     "output_type": "stream",
     "text": [
      "   Person ID Gender  Age            Occupation  Sleep Duration  \\\n",
      "0          1   Male   27     Software Engineer             6.1   \n",
      "1          2   Male   28                Doctor             6.2   \n",
      "2          3   Male   28                Doctor             6.2   \n",
      "3          4   Male   28  Sales Representative             5.9   \n",
      "4          5   Male   28  Sales Representative             5.9   \n",
      "\n",
      "   Quality of Sleep  Physical Activity Level  Stress Level BMI Category  \\\n",
      "0                 6                       42             6   Overweight   \n",
      "1                 6                       60             8       Normal   \n",
      "2                 6                       60             8       Normal   \n",
      "3                 4                       30             8        Obese   \n",
      "4                 4                       30             8        Obese   \n",
      "\n",
      "  Blood Pressure  Heart Rate  Daily Steps Sleep Disorder  \n",
      "0         126/83          77         4200           None  \n",
      "1         125/80          75        10000           None  \n",
      "2         125/80          75        10000           None  \n",
      "3         140/90          85         3000    Sleep Apnea  \n",
      "4         140/90          85         3000    Sleep Apnea  \n"
     ]
    }
   ],
   "source": [
    "import pandas as pd\n",
    "\n",
    "file_path = 'Desktop/Sleep/Sleep.csv'\n",
    "\n",
    "# Load the CSV file into a DataFrame\n",
    "data = pd.read_csv(file_path)\n",
    "\n",
    "# Display the first few rows\n",
    "print(data.head())"
   ]
  },
  {
   "cell_type": "code",
   "execution_count": 77,
   "id": "426a6150",
   "metadata": {},
   "outputs": [
    {
     "name": "stdout",
     "output_type": "stream",
     "text": [
      "Here we are importing the dataset and important libraries needed to do our graphs and calculations. We are also doing Exploratory Data Analysis, which is basically displaying the first few rows of the dataset to get a quick view of its structure.\n"
     ]
    }
   ],
   "source": [
    "print('Here we are importing the dataset and important libraries needed to do our graphs and calculations. We are also doing Exploratory Data Analysis, which is basically displaying the first few rows of the dataset to get a quick view of its structure.')"
   ]
  },
  {
   "cell_type": "code",
   "execution_count": 6,
   "id": "66d33f9e",
   "metadata": {},
   "outputs": [
    {
     "name": "stdout",
     "output_type": "stream",
     "text": [
      "        Person ID         Age  Sleep Duration  Quality of Sleep  \\\n",
      "count  374.000000  374.000000      374.000000        374.000000   \n",
      "mean   187.500000   42.184492        7.132086          7.312834   \n",
      "std    108.108742    8.673133        0.795657          1.196956   \n",
      "min      1.000000   27.000000        5.800000          4.000000   \n",
      "25%     94.250000   35.250000        6.400000          6.000000   \n",
      "50%    187.500000   43.000000        7.200000          7.000000   \n",
      "75%    280.750000   50.000000        7.800000          8.000000   \n",
      "max    374.000000   59.000000        8.500000          9.000000   \n",
      "\n",
      "       Physical Activity Level  Stress Level  Heart Rate   Daily Steps  \n",
      "count               374.000000    374.000000  374.000000    374.000000  \n",
      "mean                 59.171123      5.385027   70.165775   6816.844920  \n",
      "std                  20.830804      1.774526    4.135676   1617.915679  \n",
      "min                  30.000000      3.000000   65.000000   3000.000000  \n",
      "25%                  45.000000      4.000000   68.000000   5600.000000  \n",
      "50%                  60.000000      5.000000   70.000000   7000.000000  \n",
      "75%                  75.000000      7.000000   72.000000   8000.000000  \n",
      "max                  90.000000      8.000000   86.000000  10000.000000  \n",
      "Person ID                    int64\n",
      "Gender                      object\n",
      "Age                          int64\n",
      "Occupation                  object\n",
      "Sleep Duration             float64\n",
      "Quality of Sleep             int64\n",
      "Physical Activity Level      int64\n",
      "Stress Level                 int64\n",
      "BMI Category                object\n",
      "Blood Pressure              object\n",
      "Heart Rate                   int64\n",
      "Daily Steps                  int64\n",
      "Sleep Disorder              object\n",
      "dtype: object\n",
      "Male      189\n",
      "Female    185\n",
      "Name: Gender, dtype: int64\n",
      "Nurse                   73\n",
      "Doctor                  71\n",
      "Engineer                63\n",
      "Lawyer                  47\n",
      "Teacher                 40\n",
      "Accountant              37\n",
      "Salesperson             32\n",
      "Software Engineer        4\n",
      "Scientist                4\n",
      "Sales Representative     2\n",
      "Manager                  1\n",
      "Name: Occupation, dtype: int64\n",
      "Person ID                  0\n",
      "Gender                     0\n",
      "Age                        0\n",
      "Occupation                 0\n",
      "Sleep Duration             0\n",
      "Quality of Sleep           0\n",
      "Physical Activity Level    0\n",
      "Stress Level               0\n",
      "BMI Category               0\n",
      "Blood Pressure             0\n",
      "Heart Rate                 0\n",
      "Daily Steps                0\n",
      "Sleep Disorder             0\n",
      "dtype: int64\n"
     ]
    }
   ],
   "source": [
    "# Get summary statistics for numerical columns\n",
    "print(data.describe())\n",
    "\n",
    "# Check the data types of columns\n",
    "print(data.dtypes)\n",
    "\n",
    "# Count unique values in categorical columns\n",
    "print(data['Gender'].value_counts())\n",
    "print(data['Occupation'].value_counts())\n",
    "# ...\n",
    "\n",
    "# Check for missing values\n",
    "print(data.isnull().sum())\n"
   ]
  },
  {
   "cell_type": "code",
   "execution_count": 83,
   "id": "ee8b2152",
   "metadata": {},
   "outputs": [
    {
     "name": "stdout",
     "output_type": "stream",
     "text": [
      "Here is just a summerization of all data within our Sleep and Health Dataset with the counts. These are numeric values that will come in handy when calculating averages and p-values\n"
     ]
    }
   ],
   "source": [
    "print('Here is just a summerization of all data within our Sleep and Health Dataset with the counts. These are numeric values that will come in handy when calculating averages and p-values')"
   ]
  },
  {
   "cell_type": "code",
   "execution_count": 113,
   "id": "7ee8235f",
   "metadata": {},
   "outputs": [
    {
     "data": {
      "image/png": "[encoded data removed]",
      "text/plain": [
       "<Figure size 432x288 with 1 Axes>"
      ]
     },
     "metadata": {
      "needs_background": "light"
     },
     "output_type": "display_data"
    }
   ],
   "source": [
    "import matplotlib.pyplot as plt\n",
    "\n",
    "# Histogram of Age \n",
    "plt.hist(data['Occupation'], bins=20, color='lightcoral')  \n",
    "plt.xlabel('Occupation')\n",
    "plt.ylabel('Frequency')\n",
    "plt.title('Distribution of Occupation')\n",
    "plt.xticks(rotation=55)\n",
    "\n",
    "plt.show()\n",
    "\n"
   ]
  },
  {
   "cell_type": "code",
   "execution_count": 79,
   "id": "098585f3",
   "metadata": {},
   "outputs": [
    {
     "name": "stdout",
     "output_type": "stream",
     "text": [
      "The histogram visually displays how ages are distributed across the Sleep Vs. Health dataset. This historgram is cruical in our analysis because it helps us to understanding the spread of different age groups. It reveals whether the ages are evenly distributed or skewed either to the right or left.\n"
     ]
    }
   ],
   "source": [
    "print('The histogram visually displays how ages are distributed across the Sleep Vs. Health dataset. This historgram is cruical in our analysis because it helps us to understanding the spread of different age groups. It reveals whether the ages are evenly distributed or skewed either to the right or left.')"
   ]
  },
  {
   "cell_type": "code",
   "execution_count": 74,
   "id": "49b38f90",
   "metadata": {},
   "outputs": [],
   "source": [
    "# Handling missing values (if any)\n",
    "data.dropna(inplace=True)  # Drop rows with missing values\n",
    "\n",
    "# Removing duplicates\n",
    "data.drop_duplicates(inplace=True)\n"
   ]
  },
  {
   "cell_type": "code",
   "execution_count": null,
   "id": "9c802c37",
   "metadata": {},
   "outputs": [],
   "source": []
  },
  {
   "cell_type": "code",
   "execution_count": 72,
   "id": "18bbe601",
   "metadata": {},
   "outputs": [
    {
     "data": {
      "image/png": "[encoded data removed]",
      "text/plain": [
       "<Figure size 432x288 with 1 Axes>"
      ]
     },
     "metadata": {
      "needs_background": "light"
     },
     "output_type": "display_data"
    }
   ],
   "source": [
    "import matplotlib.pyplot as plt\n",
    "\n",
    "# Scatter plot of Sleep Duration vs. Quality of Sleep \n",
    "plt.scatter(data['Sleep Duration'], data['Quality of Sleep'], color='lightcoral')\n",
    "plt.xlabel('Sleep Duration')\n",
    "plt.ylabel('Quality of Sleep')\n",
    "plt.title('Sleep Duration vs Quality of Sleep')\n",
    "plt.show()\n"
   ]
  },
  {
   "cell_type": "code",
   "execution_count": 13,
   "id": "7bb407d5",
   "metadata": {},
   "outputs": [
    {
     "name": "stdout",
     "output_type": "stream",
     "text": [
      "                      Sleep Duration  Quality of Sleep\n",
      "Occupation                                            \n",
      "Accountant                  7.113514          7.891892\n",
      "Doctor                      6.970423          6.647887\n",
      "Engineer                    7.987302          8.412698\n",
      "Lawyer                      7.410638          7.893617\n",
      "Manager                     6.900000          7.000000\n",
      "Nurse                       7.063014          7.369863\n",
      "Sales Representative        5.900000          4.000000\n",
      "Salesperson                 6.403125          6.000000\n",
      "Scientist                   6.000000          5.000000\n",
      "Software Engineer           6.750000          6.500000\n",
      "Teacher                     6.690000          6.975000\n"
     ]
    }
   ],
   "source": [
    "relevant_columns = ['Occupation', 'Sleep Duration', 'Quality of Sleep']\n",
    "data = data[relevant_columns]\n",
    "\n",
    "occupation_sleep = data.groupby('Occupation').agg({'Sleep Duration': 'mean', 'Quality of Sleep': 'mean'})\n",
    "\n",
    "print(occupation_sleep)"
   ]
  },
  {
   "cell_type": "code",
   "execution_count": 85,
   "id": "667d3d85",
   "metadata": {},
   "outputs": [
    {
     "name": "stdout",
     "output_type": "stream",
     "text": [
      "The data above provides a summary of average sleep duration and quality for each occupation. From this data on Sleep Duration and Sleep Quality, we can easily and visably compare and analyze the differences between occupations and their effects on sleep. This is an important step in our analysis because it can begin to reveal patterns or trends indicating how different occupations correlate with sleep duration and quality.\n"
     ]
    }
   ],
   "source": [
    "print('The data above provides a summary of average sleep duration and quality for each occupation. From this data on Sleep Duration and Sleep Quality, we can easily and visably compare and analyze the differences between occupations and their effects on sleep. This is an important step in our analysis because it can begin to reveal patterns or trends indicating how different occupations correlate with sleep duration and quality.')"
   ]
  },
  {
   "cell_type": "code",
   "execution_count": 47,
   "id": "bb04ed7a",
   "metadata": {
    "scrolled": true
   },
   "outputs": [
    {
     "data": {
      "image/png": "[encoded data removed]",
      "text/plain": [
       "<Figure size 720x432 with 1 Axes>"
      ]
     },
     "metadata": {
      "needs_background": "light"
     },
     "output_type": "display_data"
    }
   ],
   "source": [
    " # Custom colors for bars\n",
    "custom_colors = ['black', 'lightcoral'] \n",
    "\n",
    "# Plotting the bar chart \n",
    "occupation_sleep.plot(kind='bar', figsize=(10, 6), color=custom_colors)\n",
    "plt.title('Impact of Occupation on Sleep')\n",
    "plt.xlabel('Occupation')\n",
    "plt.ylabel('Average Sleep Duration/Quality')\n",
    "plt.xticks(rotation=45)\n",
    "plt.legend(loc='upper right')\n",
    "plt.tight_layout()\n",
    "plt.show()\n"
   ]
  },
  {
   "cell_type": "code",
   "execution_count": 82,
   "id": "f7eb0fef",
   "metadata": {},
   "outputs": [
    {
     "name": "stdout",
     "output_type": "stream",
     "text": [
      "This bar chart provides a visual comparison of the average sleep duration and quality across different occupations. Looking at the bar chart, we can compare metrics like Average Sleep Duration among occupations represented by individual bars and their colors. The use of custom colors helps in differentiating between sleep duration and quality within each occupation category, enhancing readability and interpretation. This visualization helps in identifying potential trends or differences in sleep patterns among various occupations within our Sleep Health dataset.\n"
     ]
    }
   ],
   "source": [
    "print('This bar chart provides a visual comparison of the average sleep duration and quality across different occupations. Looking at the bar chart, we can compare metrics like Average Sleep Duration among occupations represented by individual bars and their colors. The use of custom colors helps in differentiating between sleep duration and quality within each occupation category, enhancing readability and interpretation. This visualization helps in identifying potential trends or differences in sleep patterns among various occupations within our Sleep Health dataset.')"
   ]
  },
  {
   "cell_type": "code",
   "execution_count": 88,
   "id": "3a4d83f3",
   "metadata": {},
   "outputs": [
    {
     "name": "stdout",
     "output_type": "stream",
     "text": [
      "ANOVA p-value: 2.9117522724389375e-30\n",
      "Since the p-value is extremely smaller than 0.05, the p-value strongly supports the rejection of the null hypothesis. Therefore, it indicates that there are statistically significant differences in sleep durations among the various occupations\n"
     ]
    }
   ],
   "source": [
    "# ANOVA for Sleep Duration Across Occupations\n",
    "import scipy.stats as stats\n",
    "\n",
    "# Extract data for ANOVA\n",
    "occupation_groups = [data[data['Occupation'] == occupation]['Sleep Duration'] for occupation in data['Occupation'].unique()]\n",
    "\n",
    "# Perform ANOVA test\n",
    "anova_result = stats.f_oneway(*occupation_groups)\n",
    "print(\"ANOVA p-value:\", anova_result.pvalue)\n",
    "\n",
    "print(\"Since the p-value is extremely smaller than 0.05, the p-value strongly supports the rejection of the null hypothesis. Therefore, it indicates that there are statistically significant differences in sleep durations among the various occupations\")"
   ]
  },
  {
   "cell_type": "code",
   "execution_count": 73,
   "id": "78795770",
   "metadata": {},
   "outputs": [
    {
     "data": {
      "text/html": [
       "<table class=\"simpletable\">\n",
       "<caption>Multiple Comparison of Means - Tukey HSD, FWER=0.05</caption>\n",
       "<tr>\n",
       "         <th>group1</th>               <th>group2</th>        <th>meandiff</th>  <th>p-adj</th>  <th>lower</th>   <th>upper</th>  <th>reject</th>\n",
       "</tr>\n",
       "<tr>\n",
       "       <td>Accountant</td>             <td>Doctor</td>         <td>-0.1431</td>   <td>0.9</td>  <td>-0.5661</td> <td>0.2799</td>   <td>False</td>\n",
       "</tr>\n",
       "<tr>\n",
       "       <td>Accountant</td>            <td>Engineer</td>        <td>0.8738</td>   <td>0.001</td> <td>0.4417</td>  <td>1.3059</td>   <td>True</td> \n",
       "</tr>\n",
       "<tr>\n",
       "       <td>Accountant</td>             <td>Lawyer</td>         <td>0.2971</td>  <td>0.5676</td> <td>-0.1614</td> <td>0.7557</td>   <td>False</td>\n",
       "</tr>\n",
       "<tr>\n",
       "       <td>Accountant</td>             <td>Manager</td>        <td>-0.2135</td>   <td>0.9</td>  <td>-2.3279</td> <td>1.9008</td>   <td>False</td>\n",
       "</tr>\n",
       "<tr>\n",
       "       <td>Accountant</td>              <td>Nurse</td>         <td>-0.0505</td>   <td>0.9</td>  <td>-0.4715</td> <td>0.3705</td>   <td>False</td>\n",
       "</tr>\n",
       "<tr>\n",
       "       <td>Accountant</td>      <td>Sales Representative</td>  <td>-1.2135</td>  <td>0.255</td> <td>-2.7281</td> <td>0.3011</td>   <td>False</td>\n",
       "</tr>\n",
       "<tr>\n",
       "       <td>Accountant</td>           <td>Salesperson</td>      <td>-0.7104</td>  <td>0.001</td> <td>-1.214</td>  <td>-0.2067</td>  <td>True</td> \n",
       "</tr>\n",
       "<tr>\n",
       "       <td>Accountant</td>            <td>Scientist</td>       <td>-1.1135</td> <td>0.0437</td> <td>-2.2116</td> <td>-0.0154</td>  <td>True</td> \n",
       "</tr>\n",
       "<tr>\n",
       "       <td>Accountant</td>        <td>Software Engineer</td>   <td>-0.3635</td>   <td>0.9</td>  <td>-1.4616</td> <td>0.7346</td>   <td>False</td>\n",
       "</tr>\n",
       "<tr>\n",
       "       <td>Accountant</td>             <td>Teacher</td>        <td>-0.4235</td> <td>0.1321</td> <td>-0.8994</td> <td>0.0524</td>   <td>False</td>\n",
       "</tr>\n",
       "<tr>\n",
       "         <td>Doctor</td>              <td>Engineer</td>        <td>1.0169</td>   <td>0.001</td> <td>0.6558</td>   <td>1.378</td>   <td>True</td> \n",
       "</tr>\n",
       "<tr>\n",
       "         <td>Doctor</td>               <td>Lawyer</td>         <td>0.4402</td>   <td>0.014</td> <td>0.0479</td>  <td>0.8325</td>   <td>True</td> \n",
       "</tr>\n",
       "<tr>\n",
       "         <td>Doctor</td>               <td>Manager</td>        <td>-0.0704</td>   <td>0.9</td>  <td>-2.1714</td> <td>2.0306</td>   <td>False</td>\n",
       "</tr>\n",
       "<tr>\n",
       "         <td>Doctor</td>                <td>Nurse</td>         <td>0.0926</td>    <td>0.9</td>  <td>-0.2552</td> <td>0.4403</td>   <td>False</td>\n",
       "</tr>\n",
       "<tr>\n",
       "         <td>Doctor</td>        <td>Sales Representative</td>  <td>-1.0704</td> <td>0.4274</td> <td>-2.5663</td> <td>0.4255</td>   <td>False</td>\n",
       "</tr>\n",
       "<tr>\n",
       "         <td>Doctor</td>             <td>Salesperson</td>      <td>-0.5673</td> <td>0.0021</td> <td>-1.0115</td> <td>-0.1231</td>  <td>True</td> \n",
       "</tr>\n",
       "<tr>\n",
       "         <td>Doctor</td>              <td>Scientist</td>       <td>-0.9704</td> <td>0.1176</td> <td>-2.0426</td> <td>0.1017</td>   <td>False</td>\n",
       "</tr>\n",
       "<tr>\n",
       "         <td>Doctor</td>          <td>Software Engineer</td>   <td>-0.2204</td>   <td>0.9</td>  <td>-1.2926</td> <td>0.8517</td>   <td>False</td>\n",
       "</tr>\n",
       "<tr>\n",
       "         <td>Doctor</td>               <td>Teacher</td>        <td>-0.2804</td> <td>0.5039</td> <td>-0.6929</td>  <td>0.132</td>   <td>False</td>\n",
       "</tr>\n",
       "<tr>\n",
       "        <td>Engineer</td>              <td>Lawyer</td>         <td>-0.5767</td>  <td>0.001</td> <td>-0.9788</td> <td>-0.1745</td>  <td>True</td> \n",
       "</tr>\n",
       "<tr>\n",
       "        <td>Engineer</td>              <td>Manager</td>        <td>-1.0873</td>  <td>0.829</td> <td>-3.1901</td> <td>1.0155</td>   <td>False</td>\n",
       "</tr>\n",
       "<tr>\n",
       "        <td>Engineer</td>               <td>Nurse</td>         <td>-0.9243</td>  <td>0.001</td> <td>-1.2831</td> <td>-0.5655</td>  <td>True</td> \n",
       "</tr>\n",
       "<tr>\n",
       "        <td>Engineer</td>       <td>Sales Representative</td>  <td>-2.0873</td>  <td>0.001</td> <td>-3.5858</td> <td>-0.5888</td>  <td>True</td> \n",
       "</tr>\n",
       "<tr>\n",
       "        <td>Engineer</td>            <td>Salesperson</td>      <td>-1.5842</td>  <td>0.001</td> <td>-2.0371</td> <td>-1.1313</td>  <td>True</td> \n",
       "</tr>\n",
       "<tr>\n",
       "        <td>Engineer</td>             <td>Scientist</td>       <td>-1.9873</td>  <td>0.001</td> <td>-3.0631</td> <td>-0.9115</td>  <td>True</td> \n",
       "</tr>\n",
       "<tr>\n",
       "        <td>Engineer</td>         <td>Software Engineer</td>   <td>-1.2373</td> <td>0.0102</td> <td>-2.3131</td> <td>-0.1615</td>  <td>True</td> \n",
       "</tr>\n",
       "<tr>\n",
       "        <td>Engineer</td>              <td>Teacher</td>        <td>-1.2973</td>  <td>0.001</td> <td>-1.7191</td> <td>-0.8755</td>  <td>True</td> \n",
       "</tr>\n",
       "<tr>\n",
       "         <td>Lawyer</td>               <td>Manager</td>        <td>-0.5106</td>   <td>0.9</td>  <td>-2.6191</td> <td>1.5978</td>   <td>False</td>\n",
       "</tr>\n",
       "<tr>\n",
       "         <td>Lawyer</td>                <td>Nurse</td>         <td>-0.3476</td> <td>0.1311</td> <td>-0.7378</td> <td>0.0426</td>   <td>False</td>\n",
       "</tr>\n",
       "<tr>\n",
       "         <td>Lawyer</td>        <td>Sales Representative</td>  <td>-1.5106</td> <td>0.0487</td> <td>-3.017</td>  <td>-0.0043</td>  <td>True</td> \n",
       "</tr>\n",
       "<tr>\n",
       "         <td>Lawyer</td>             <td>Salesperson</td>      <td>-1.0075</td>  <td>0.001</td> <td>-1.4857</td> <td>-0.5294</td>  <td>True</td> \n",
       "</tr>\n",
       "<tr>\n",
       "         <td>Lawyer</td>              <td>Scientist</td>       <td>-1.4106</td> <td>0.0016</td> <td>-2.4973</td> <td>-0.324</td>   <td>True</td> \n",
       "</tr>\n",
       "<tr>\n",
       "         <td>Lawyer</td>          <td>Software Engineer</td>   <td>-0.6606</td> <td>0.6475</td> <td>-1.7473</td>  <td>0.426</td>   <td>False</td>\n",
       "</tr>\n",
       "<tr>\n",
       "         <td>Lawyer</td>               <td>Teacher</td>        <td>-0.7206</td>  <td>0.001</td> <td>-1.1695</td> <td>-0.2718</td>  <td>True</td> \n",
       "</tr>\n",
       "<tr>\n",
       "         <td>Manager</td>               <td>Nurse</td>          <td>0.163</td>    <td>0.9</td>  <td>-1.9376</td> <td>2.2636</td>   <td>False</td>\n",
       "</tr>\n",
       "<tr>\n",
       "         <td>Manager</td>       <td>Sales Representative</td>   <td>-1.0</td>     <td>0.9</td>  <td>-3.5552</td> <td>1.5552</td>   <td>False</td>\n",
       "</tr>\n",
       "<tr>\n",
       "         <td>Manager</td>            <td>Salesperson</td>      <td>-0.4969</td>   <td>0.9</td>  <td>-2.6156</td> <td>1.6218</td>   <td>False</td>\n",
       "</tr>\n",
       "<tr>\n",
       "         <td>Manager</td>             <td>Scientist</td>        <td>-0.9</td>     <td>0.9</td>  <td>-3.2326</td> <td>1.4326</td>   <td>False</td>\n",
       "</tr>\n",
       "<tr>\n",
       "         <td>Manager</td>         <td>Software Engineer</td>    <td>-0.15</td>    <td>0.9</td>  <td>-2.4826</td> <td>2.1826</td>   <td>False</td>\n",
       "</tr>\n",
       "<tr>\n",
       "         <td>Manager</td>              <td>Teacher</td>         <td>-0.21</td>    <td>0.9</td>  <td>-2.3223</td> <td>1.9023</td>   <td>False</td>\n",
       "</tr>\n",
       "<tr>\n",
       "          <td>Nurse</td>        <td>Sales Representative</td>  <td>-1.163</td>   <td>0.297</td> <td>-2.6584</td> <td>0.3323</td>   <td>False</td>\n",
       "</tr>\n",
       "<tr>\n",
       "          <td>Nurse</td>             <td>Salesperson</td>      <td>-0.6599</td>  <td>0.001</td> <td>-1.1022</td> <td>-0.2176</td>  <td>True</td> \n",
       "</tr>\n",
       "<tr>\n",
       "          <td>Nurse</td>              <td>Scientist</td>       <td>-1.063</td>  <td>0.0539</td> <td>-2.1344</td> <td>0.0084</td>   <td>False</td>\n",
       "</tr>\n",
       "<tr>\n",
       "          <td>Nurse</td>          <td>Software Engineer</td>   <td>-0.313</td>    <td>0.9</td>  <td>-1.3844</td> <td>0.7584</td>   <td>False</td>\n",
       "</tr>\n",
       "<tr>\n",
       "          <td>Nurse</td>               <td>Teacher</td>        <td>-0.373</td>  <td>0.1139</td> <td>-0.7834</td> <td>0.0374</td>   <td>False</td>\n",
       "</tr>\n",
       "<tr>\n",
       "  <td>Sales Representative</td>      <td>Salesperson</td>      <td>0.5031</td>    <td>0.9</td>  <td>-1.0175</td> <td>2.0238</td>   <td>False</td>\n",
       "</tr>\n",
       "<tr>\n",
       "  <td>Sales Representative</td>       <td>Scientist</td>         <td>0.1</td>     <td>0.9</td>  <td>-1.7068</td> <td>1.9068</td>   <td>False</td>\n",
       "</tr>\n",
       "<tr>\n",
       "  <td>Sales Representative</td>   <td>Software Engineer</td>    <td>0.85</td>     <td>0.9</td>  <td>-0.9568</td> <td>2.6568</td>   <td>False</td>\n",
       "</tr>\n",
       "<tr>\n",
       "  <td>Sales Representative</td>        <td>Teacher</td>         <td>0.79</td>    <td>0.818</td> <td>-0.7217</td> <td>2.3017</td>   <td>False</td>\n",
       "</tr>\n",
       "<tr>\n",
       "       <td>Salesperson</td>           <td>Scientist</td>       <td>-0.4031</td>   <td>0.9</td>  <td>-1.5096</td> <td>0.7033</td>   <td>False</td>\n",
       "</tr>\n",
       "<tr>\n",
       "       <td>Salesperson</td>       <td>Software Engineer</td>   <td>0.3469</td>    <td>0.9</td>  <td>-0.7596</td> <td>1.4533</td>   <td>False</td>\n",
       "</tr>\n",
       "<tr>\n",
       "       <td>Salesperson</td>            <td>Teacher</td>        <td>0.2869</td>  <td>0.7038</td> <td>-0.2079</td> <td>0.7817</td>   <td>False</td>\n",
       "</tr>\n",
       "<tr>\n",
       "        <td>Scientist</td>        <td>Software Engineer</td>    <td>0.75</td>   <td>0.8464</td> <td>-0.7253</td> <td>2.2253</td>   <td>False</td>\n",
       "</tr>\n",
       "<tr>\n",
       "        <td>Scientist</td>             <td>Teacher</td>         <td>0.69</td>   <td>0.6022</td> <td>-0.4041</td> <td>1.7841</td>   <td>False</td>\n",
       "</tr>\n",
       "<tr>\n",
       "    <td>Software Engineer</td>         <td>Teacher</td>         <td>-0.06</td>    <td>0.9</td>  <td>-1.1541</td> <td>1.0341</td>   <td>False</td>\n",
       "</tr>\n",
       "</table>"
      ],
      "text/plain": [
       "<class 'statsmodels.iolib.table.SimpleTable'>"
      ]
     },
     "execution_count": 73,
     "metadata": {},
     "output_type": "execute_result"
    }
   ],
   "source": [
    "from statsmodels.stats.multicomp import pairwise_tukeyhsd\n",
    "\n",
    "# Run Tukey's HSD test, printt the summary\n",
    "pairwise_tukeyhsd(data['Sleep Duration'], data['Occupation']).summary()\n",
    "\n"
   ]
  },
  {
   "cell_type": "code",
   "execution_count": 4,
   "id": "7cfc786f",
   "metadata": {},
   "outputs": [
    {
     "name": "stdout",
     "output_type": "stream",
     "text": [
      "The Tukey's range test (or Tukey's Honestly Significant Difference test - Tukey HSD) is a statistical method. It is a function taken from the python Library. It is typically an Analysis of Variance to determine which specific groups differ significantly from each other. In this case, we are ultizing different occupations and their correlaion with quality of sleep.\n"
     ]
    }
   ],
   "source": [
    "print(\"The Tukey's range test (or Tukey's Honestly Significant Difference test - Tukey HSD) is a statistical method. It is a function taken from the python Library. It is typically an Analysis of Variance to determine which specific groups differ significantly from each other. In this case, we are ultizing different occupations and their correlaion with quality of sleep.\")"
   ]
  },
  {
   "cell_type": "code",
   "execution_count": 2,
   "id": "ecb52bb1",
   "metadata": {},
   "outputs": [
    {
     "name": "stdout",
     "output_type": "stream",
     "text": [
      "CONCLUSION: The statistical significance suggests that the average sleep durations significantly differ across the occupations included in the analysis. These findings might be valuable for occupational health interventions or policies aimed at improving sleep patterns within specific professions Based on these significant differences, tailored approaches or strategies to address sleep-related issues within certain occupational groups could be recommended\n"
     ]
    }
   ],
   "source": [
    "print('CONCLUSION: The statistical significance suggests that the average sleep durations significantly differ across the occupations included in the analysis. These findings might be valuable for occupational health interventions or policies aimed at improving sleep patterns within specific professions Based on these significant differences, tailored approaches or strategies to address sleep-related issues within certain occupational groups could be recommended')"
   ]
  },
  {
   "cell_type": "code",
   "execution_count": null,
   "id": "b7323cf4",
   "metadata": {},
   "outputs": [],
   "source": []
  }
 ],
 "metadata": {
  "kernelspec": {
   "display_name": "Python 3 (ipykernel)",
   "language": "python",
   "name": "python3"
  },
  "language_info": {
   "codemirror_mode": {
    "name": "ipython",
    "version": 3
   },
   "file_extension": ".py",
   "mimetype": "text/x-python",
   "name": "python",
   "nbconvert_exporter": "python",
   "pygments_lexer": "ipython3",
   "version": "3.9.7"
  }
 },
 "nbformat": 4,
 "nbformat_minor": 5
}
